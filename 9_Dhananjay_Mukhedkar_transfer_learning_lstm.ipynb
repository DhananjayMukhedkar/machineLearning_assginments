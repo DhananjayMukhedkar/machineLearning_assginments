{
 "cells": [
  {
   "cell_type": "markdown",
   "metadata": {
    "colab_type": "text",
    "id": "BkPgmSvbmf3j"
   },
   "source": [
    "# Tutorial 9: Recurrent Neural Networks (RNNs) and Transfer Learning\n",
    "\n",
    "Welcome to the ninth tutorial of the course 'Machine learning for Precision Medicine'.\n",
    "\n",
    "In this exercise we will touch on two important topics in modern machine learning research: RNNs and transfer learning.\n",
    "\n",
    "We have prepared a dataset for you, consisting of 4104 drug-reviews with corresponding (subjective) ratings and effectiveness scores. This dataset was derived from the **Drug Review Dataset (Druglib.com)** on the [UCI Machine Learning Repository ](https://archive.ics.uci.edu/ml/datasets/Drug+Review+Dataset+(Druglib.com)).\n",
    "\n",
    "Your task will be to build a predictor that is able to predict the rating from 1 to 10. You will be free to implement a second model that predicts the effectiveness.\n",
    "\n",
    "To build this predictor, we will first encode the reviews using sentence embedding. Every sentence of each review will be encoded as a vector of 512 numbers, using a pre-trained *universal sentence encoder* available on [TensorFlow Hub](https://tfhub.dev/google/universal-sentence-encoder/2) and published [arXiv](https://arxiv.org/abs/1803.11175). These vectors represent the content of each sentence in a dense vector. The universal sentence encoder was trained on a large corpus of text - much larger than our training set.\n",
    "\n",
    "The model that encodes our sentences was trained with the Stanford Natural Language Inference (SNLI) corpus. The SNLI corpus is a collection of 570k human-written English sentence pairs manually labeled for balanced classification with the labels entailment, contradiction, and neutral, supporting the task of natural language inference (NLI), also known as recognizing textual entailment (RTE). Essentially, the model was trained to learn the semantic similarity between the sentence pairs.\n",
    "\n",
    "After embedding the sentences, aach review (which will then be represented as a sequence of embeddings), will be fed into an LSTM in order to predict the rating.\n",
    "\n",
    "The process of taking a model that was trained on a different task and using it for a new task is called transfer learning. Often the pre-trained model was trained with a lot more data than is availble for the new task. Transfer learning is usually a good idea if the number of training examples is small.\n"
   ]
  },
  {
   "cell_type": "code",
   "execution_count": 1,
   "metadata": {
    "colab": {
     "base_uri": "https://localhost:8080/",
     "height": 35
    },
    "colab_type": "code",
    "id": "ZicxU-5ymnO1",
    "outputId": "42b64f6c-bb8d-4677-c14e-db0606b639ff"
   },
   "outputs": [
    {
     "name": "stderr",
     "output_type": "stream",
     "text": [
      "Using TensorFlow backend.\n"
     ]
    }
   ],
   "source": [
    "\n",
    "import tensorflow as tf\n",
    "import tensorflow_hub as hub\n",
    "import matplotlib.pyplot as plt\n",
    "import numpy as np\n",
    "import os\n",
    "import pandas as pd\n",
    "\n",
    "from keras.layers import Input, Lambda, Dense, LSTM, RNN, GRU\n",
    "from keras import Model\n",
    "import keras.backend as K\n",
    "from keras.optimizers import Adam"
   ]
  },
  {
   "cell_type": "code",
   "execution_count": null,
   "metadata": {
    "colab": {},
    "colab_type": "code",
    "id": "zRrj3ELPgtyk"
   },
   "outputs": [],
   "source": [
    "# Import the Universal Sentence Encoder's TF Hub module\n",
    "module_url = \"https://tfhub.dev/google/universal-sentence-encoder/2\"\n",
    "embed = hub.Module(module_url)"
   ]
  },
  {
   "cell_type": "code",
   "execution_count": null,
   "metadata": {
    "colab": {
     "base_uri": "https://localhost:8080/",
     "height": 328
    },
    "colab_type": "code",
    "id": "YCQ1kFyxipF2",
    "outputId": "34d720be-3c74-4f0d-d14b-4c7e1a66a344"
   },
   "outputs": [],
   "source": [
    "# we load the data and display a couple of reviews\n",
    "drugreviews = pd.read_csv('https://raw.githubusercontent.com/remomomo/mlpm/master/data_proc.tsv', sep='\\t', header=0)\n",
    "\n",
    "for i in [0, 10, 1500, 3000]:\n",
    "  print('\\ndrug review example:')\n",
    "  print(\"{}\".format(drugreviews['benefitsreview'][i]))\n",
    "  print('# rating: {}, effectiveness: {}'.format(drugreviews['rating'][i], drugreviews['effectiveness'][i]))"
   ]
  },
  {
   "cell_type": "markdown",
   "metadata": {
    "colab_type": "text",
    "id": "Wvg-HWQgvDpz"
   },
   "source": [
    "As we can see above, the reviews cover different types of drugs and have different lengths. Estimating the rating from the review is not a straight forward task and probably can't be solved perfectly. How well could you perform this? In the following cells, we will perform some additional pre-processing steps in order to split the reviews in to single sentences."
   ]
  },
  {
   "cell_type": "code",
   "execution_count": null,
   "metadata": {
    "colab": {
     "base_uri": "https://localhost:8080/",
     "height": 92
    },
    "colab_type": "code",
    "id": "5IjsMfZXtXKd",
    "outputId": "af8f31d1-c162-4b6f-e5a1-a016db7c6b67"
   },
   "outputs": [],
   "source": [
    "# we perform some additional pre-processing\n",
    "reviews_split = [review.replace('i.e.','ie').replace('...','.').split('.') for review in drugreviews['benefitsreview']]\n",
    "#reviews_split = [review.replace('...','.').split('.') for review in drugreviews['effectiveness']]\n",
    "reviews_split = [ [sentence for sentence in review if len(sentence) > 8 ] for review in reviews_split ]\n",
    "print(\"review:\\n {}\".format(reviews_split[3000]))\n",
    "print('# length: {}'.format(len(reviews_split[3000])))"
   ]
  },
  {
   "cell_type": "code",
   "execution_count": null,
   "metadata": {
    "colab": {},
    "colab_type": "code",
    "id": "auXRicFnkLP1"
   },
   "outputs": [],
   "source": [
    "# we limit ourselves to the first 10 sentences of every review:\n",
    "reviews_split = [ review[:min(10, len(review))] for review in reviews_split ]"
   ]
  },
  {
   "cell_type": "code",
   "execution_count": null,
   "metadata": {
    "colab": {
     "base_uri": "https://localhost:8080/",
     "height": 281
    },
    "colab_type": "code",
    "id": "Em1S71oKk0UI",
    "outputId": "43c01496-9651-40b2-c28a-63af7dc336a7"
   },
   "outputs": [],
   "source": [
    "_ = plt.hist(np.array(list(map(len, reviews_split))), 10)\n",
    "_ = plt.title('length of drug reviews')"
   ]
  },
  {
   "cell_type": "markdown",
   "metadata": {
    "colab_type": "text",
    "id": "16WgjulKxENS"
   },
   "source": [
    "The following cell wraps the embed-function imported above in a Keras model. We will pre-compute the embeddings for all observations using this model. Additionally, we will zero-pad the sequences to all have length (10). This will later facilitate the training process."
   ]
  },
  {
   "cell_type": "code",
   "execution_count": null,
   "metadata": {
    "colab": {
     "base_uri": "https://localhost:8080/",
     "height": 128
    },
    "colab_type": "code",
    "id": "RIdN1Vlpo-9U",
    "outputId": "746527b8-ddb5-4f13-afaf-f8430f195921"
   },
   "outputs": [],
   "source": [
    "def UniversalEmbedding(x):\n",
    "    return embed(tf.squeeze(tf.cast(x, tf.string)), \n",
    "    \tsignature=\"default\", as_dict=True)[\"default\"]\n",
    "  \n",
    "input_text = Input(shape=(1,), dtype=tf.string)\n",
    "out = Lambda(UniversalEmbedding, output_shape=(512,))(input_text)\n",
    "sequence_embedder = Model(input_text, out)"
   ]
  },
  {
   "cell_type": "markdown",
   "metadata": {
    "colab_type": "text",
    "id": "-7mI6wNZDpfY"
   },
   "source": []
  },
  {
   "cell_type": "code",
   "execution_count": null,
   "metadata": {
    "colab": {
     "base_uri": "https://localhost:8080/",
     "height": 35
    },
    "colab_type": "code",
    "id": "JVEtDDj-qonQ",
    "outputId": "f7820d1b-b07b-47c3-ad73-8adb4f91df4a"
   },
   "outputs": [],
   "source": [
    "all_sentences = np.concatenate(reviews_split)\n",
    "print('shape before embedding and padding: {}'.format(all_sentences.shape))"
   ]
  },
  {
   "cell_type": "code",
   "execution_count": null,
   "metadata": {
    "colab": {
     "base_uri": "https://localhost:8080/",
     "height": 164
    },
    "colab_type": "code",
    "id": "Ijz__d87qcWm",
    "outputId": "003220b1-1ec1-4bc5-e3c8-d8f4dff127c7"
   },
   "outputs": [],
   "source": [
    "# we pre-compute the embeddings for all the sentences:\n",
    "with tf.Session() as session:\n",
    "\n",
    "  K.set_session(session)\n",
    "  session.run(tf.global_variables_initializer())\n",
    "  session.run(tf.tables_initializer())\n",
    "  \n",
    "  embeddings = sequence_embedder.predict(all_sentences, verbose=1)"
   ]
  },
  {
   "cell_type": "markdown",
   "metadata": {
    "colab_type": "text",
    "id": "P8ep7VfJy9Du"
   },
   "source": [
    "Now that we have computed the embeddings for all sentences, we can visualize a couple of examples. "
   ]
  },
  {
   "cell_type": "code",
   "execution_count": null,
   "metadata": {
    "colab": {
     "base_uri": "https://localhost:8080/",
     "height": 742
    },
    "colab_type": "code",
    "id": "zREujwxSy-8U",
    "outputId": "5800e280-dab7-490a-d6e5-a95cb1b73d09"
   },
   "outputs": [],
   "source": [
    "import seaborn as sns\n",
    "\n",
    "def plot_similarity(labels, features, rotation):\n",
    "  corr = np.inner(features, features)\n",
    "  sns.set(font_scale=1.2)\n",
    "  g = sns.heatmap(\n",
    "      corr,\n",
    "      xticklabels=labels,\n",
    "      yticklabels=labels,\n",
    "      vmin=0,\n",
    "      vmax=1,\n",
    "      cmap=\"YlOrRd\")\n",
    "  g.set_xticklabels(labels, rotation=rotation)\n",
    "  g.set_title(\"Semantic Textual Similarity\")\n",
    "  \n",
    "plot_similarity(all_sentences[[80,20,200,40,100]], embeddings[[80,20,200,40,100]], 90)"
   ]
  },
  {
   "cell_type": "code",
   "execution_count": null,
   "metadata": {
    "colab": {},
    "colab_type": "code",
    "id": "-YkyNHwNryJp"
   },
   "outputs": [],
   "source": [
    "# reshaping back...\n",
    "embedded_reviews = []\n",
    "i = 0\n",
    "for review in reviews_split:\n",
    "  embedded_reviews.append(embeddings[i:(i+len(review))])\n",
    "  i+=len(review)\n",
    "embedded_reviews = np.array(embedded_reviews)"
   ]
  },
  {
   "cell_type": "code",
   "execution_count": null,
   "metadata": {
    "colab": {
     "base_uri": "https://localhost:8080/",
     "height": 401
    },
    "colab_type": "code",
    "id": "5Zq_KKrNslTA",
    "outputId": "995d6301-c4cc-4ecd-a775-35bd16c7915f"
   },
   "outputs": [],
   "source": [
    "for i in [0, 10, 1500, 3000]:\n",
    "  print('\\ndrug review example:')\n",
    "  print(\"{}\".format(drugreviews['benefitsreview'][i]))\n",
    "  print('# rating: {}, effectiveness: {}'.format(drugreviews['rating'][i], drugreviews['effectiveness'][i]))\n",
    "  print('# embedding shape: {}'.format(embedded_reviews[i].shape))"
   ]
  },
  {
   "cell_type": "code",
   "execution_count": null,
   "metadata": {
    "colab": {
     "base_uri": "https://localhost:8080/",
     "height": 35
    },
    "colab_type": "code",
    "id": "3vXHSYVf3HiN",
    "outputId": "e5480f62-ffea-479a-c08e-cadf1880aefc"
   },
   "outputs": [],
   "source": [
    "embedded_reviews_pad = np.array([np.pad(embedded_review, ((10-embedded_review.shape[0], 0), (0,0)), mode='constant', constant_values=0.) for embedded_review in embedded_reviews ])\n",
    "print('shape after embedding and padding: {}'.format(embedded_reviews_pad.shape))\n",
    "\n",
    "\n"
   ]
  },
  {
   "cell_type": "markdown",
   "metadata": {
    "colab_type": "text",
    "id": "edGtXYE81euw"
   },
   "source": [
    "The data has now been pre-processed and is ready to be used to train our model - a recurrant neural network:\n",
    "\n",
    "## LSTM\n",
    "RNNs are usually designed to learn patterns in sequential data, i.e. text, genomes, sensor data, ...\n",
    "LSTMs (Long-shortterm memory) models are a type of RNNs to model sequential data. Sequential data follows some structure, i.e. language follows grammar rules. With a CNN only the current sample (i.e. image) is used as an input. RNN's however, also take previously seen samples as input for the feed-forward input, which adds together as two input sources, present and past data with the aim to predict new data. To feed back past data to the input, the the output of a neural network layer at time t goes back to the input of the same network layer at time t + 1. This is what is considered as memory. The sequential information is preserved in the recurrent network’s hidden state and essentially what RNNs do is sharing weights over time.\n",
    "\n",
    "Here we will learn the sequential structure in drug reviews. \n",
    "\n",
    "In the lecture you heard about the different components of an LSTM, namely input gate, the forget gate and the output gate.\n",
    "\n",
    "__Input gate:__  \n",
    "First, we will squash this combined input through a tanh-activated layer resulting in values between -1 and 1. This can be expressed by:\n",
    "\n",
    "$$ g=tanh(b^g + x_tU^g+h_{t−1}V^g),$$\n",
    "\n",
    "where $U^g$ and $V^g$ are the weights for the input and previous cell output, respectively, and $b^g$ is the input bias. Note that the exponents g are not a raised power, but rather signify that these are the input weights and bias values.\n",
    "\n",
    "We pass this $g$ through the input gate, which is basically a layer of sigmoid activated nodes. The idea behind these sigmoid activated nodes is to exclude elements of the input vector that are not relevant (pass the associated weights when sigmoid output of this node is close to 1, and exclude when close to 0). Then we do an element-wise multiplication of the output and the squashed input.\n",
    "\n",
    "$$i = \\sigma(b^i+x_tU^i+h_{t-i}V^i) $$  and  \n",
    "$$g\\cdot i$$\n",
    "\n",
    "\n",
    "__Forget gate:__  \n",
    "In the next step, we add the internal state variable st, which lagged one time step i.e. st−1, to the input data and pass it through the forget gate. This is an addition operation (not multiplication) reduces the risk of vanishing gradients. In the forget layer the model learns which state variables should be “remembered” or “forgotten”.\n",
    "\n",
    "The output of the forget gate is expressed as:\n",
    "$$f=\\sigma(b^f+x_tU^f+h_{t-1}U^f)$$\n",
    "\n",
    "The output of the element-wise product of the previous state and the forget gate is expressed as st−1∘f. The output from the forget gate / state loop stage is\n",
    "$$s_t=s_{t-1}\\cdot f+g\\cdot i $$\n",
    "\n",
    "\n",
    "__Output gate:__  \n",
    "Finally, we arrive at the output gate, which determines which values are actually allowed as an output from the cell ht. \n",
    "\n",
    "The output gate operation is expressed as   \n",
    "\n",
    "$$o =\\sigma(b^o+x_tU^o+h_{t-1}V^o) $$\n",
    "\n",
    "and the final output results by\n",
    "\n",
    "$$h_t = tanh(s_t)\\cdot o$$\n",
    "\n",
    "Luckily, you do not have to implement these different gates yourself. Keras provides a layer `LSTM`, which can have multiple hidden units connected by the gates described above."
   ]
  },
  {
   "cell_type": "markdown",
   "metadata": {
    "colab_type": "text",
    "id": "qNRftU1p3SSu"
   },
   "source": [
    "## Task 1:\n",
    "\n",
    "Complete the function `get_LSTM()` below, that builds a model using a single LSTM layer with 4 hidden units. The ouput of the LSTM layer, is passed to a dense layer in order to predict the rating from 1 to 10. Choose the appropriate size for the dense layer, and specify the correct activation.\n",
    "\n",
    "You should do this using the keras functional API. Read up on how to define a keras `Model` with the [functional API](https://keras.io/models/model/)."
   ]
  },
  {
   "cell_type": "code",
   "execution_count": null,
   "metadata": {
    "colab": {},
    "colab_type": "code",
    "id": "_-EM_5q84arJ"
   },
   "outputs": [],
   "source": [
    "def get_LSTM():\n",
    "    \n",
    "    \n",
    "    # your code\n",
    "    in_layer = Input(shape=(10,512))\n",
    "    lstm =LSTM(4)(in_layer)\n",
    "    #lstm =Dense(10, activation='relu')(lstm)\n",
    "    lstm =Dense(1, activation='softmax')(lstm)  \n",
    "        \n",
    "    \n",
    "    model = Model(in_layer, lstm )# your code\n",
    "    model.summary()\n",
    "    \n",
    "    return model"
   ]
  },
  {
   "cell_type": "markdown",
   "metadata": {
    "colab_type": "text",
    "id": "KAXAE0Oz4-s5"
   },
   "source": [
    "We split the data in to train- and test sets:"
   ]
  },
  {
   "cell_type": "code",
   "execution_count": null,
   "metadata": {
    "colab": {
     "base_uri": "https://localhost:8080/",
     "height": 35
    },
    "colab_type": "code",
    "id": "0xLQpzwC0n55",
    "outputId": "e36a2e49-b60d-408c-ed48-2ba575640854"
   },
   "outputs": [],
   "source": [
    "ratings = np.array(drugreviews['rating'])\n",
    "#eff = np.array(drugreviews['effectiveness'])\n",
    "train_reviews = embedded_reviews_pad[0:3500]\n",
    "train_ratings = ratings[0:3500]\n",
    "\n",
    "test_reviews = embedded_reviews_pad[3500:]\n",
    "test_ratings = ratings[3500:]\n",
    "\n"
   ]
  },
  {
   "cell_type": "markdown",
   "metadata": {
    "colab_type": "text",
    "id": "1tgI7wbW5xjK"
   },
   "source": [
    "## Task 2:\n",
    "Complete the cell below. First retrieve your model with the function you defined above. Compile the model using the Adam optimizer and a learning rate of 0.01. Fit the model for 30 epochs, use the mean squared error as your loss and and monitor the performance on the validation data (`test_reviews`, `test_ratings`) using the mean absolute error during training."
   ]
  },
  {
   "cell_type": "code",
   "execution_count": null,
   "metadata": {
    "colab": {
     "base_uri": "https://localhost:8080/",
     "height": 1000
    },
    "colab_type": "code",
    "id": "bDwyhsOm5v1t",
    "outputId": "d26b115d-47f7-4152-d992-7c30d47c6420"
   },
   "outputs": [],
   "source": [
    "with tf.Session() as session:\n",
    "  \n",
    "  K.set_session(session) \n",
    "  lstm_model = get_LSTM() # your code (load the model)\n",
    "  \n",
    "  # your code (compile and fit)\n",
    "  lstm_model.compile(optimizer=Adam(lr=0.01),\n",
    "              loss='mean_squared_error',\n",
    "              metrics=['mean_absolute_error']) #mean_absolute_error\n",
    "  history=lstm_model.fit(train_reviews,train_ratings,epochs=30,validation_data=(test_reviews,test_ratings))\n",
    "   \n",
    "  preds = lstm_model.predict(test_reviews)\n",
    "  \n",
    "     \n",
    "plothistory(history)\n",
    "  \n",
    "  "
   ]
  },
  {
   "cell_type": "markdown",
   "metadata": {
    "colab_type": "text",
    "id": "wNmQzT3a7FFR"
   },
   "source": [
    "**Expected Output (approximately):**\n",
    "\n",
    "```\n",
    "Train on 3500 samples, validate on 604 samples\n",
    "Epoch 1/30\n",
    "3500/3500 [==============================] - 3s 991us/step - loss: 17.7917 - mean_absolute_error: 3.6456 - val_loss: 8.9291 - val_mean_absolute_error: 2.6259\n",
    "Epoch 2/30\n",
    "3500/3500 [==============================] - 1s 308us/step - loss: 8.3288 - mean_absolute_error: 2.4174 - val_loss: 8.4183 - val_mean_absolute_error: 2.4193\n",
    "Epoch 3/30\n",
    "3500/3500 [==============================] - 1s 313us/step - loss: 7.7538 - mean_absolute_error: 2.3174 - val_loss: 7.3692 - val_mean_absolute_error: 2.2865\n",
    "\n",
    "........\n",
    "\n",
    "Epoch 28/30\n",
    "3500/3500 [==============================] - 1s 295us/step - loss: 4.1380 - mean_absolute_error: 1.5699 - val_loss: 6.8988 - val_mean_absolute_error: 2.0348\n",
    "Epoch 29/30\n",
    "3500/3500 [==============================] - 1s 300us/step - loss: 4.0851 - mean_absolute_error: 1.5492 - val_loss: 6.9087 - val_mean_absolute_error: 2.0201\n",
    "Epoch 30/30\n",
    "3500/3500 [==============================] - 1s 296us/step - loss: 4.0451 - mean_absolute_error: 1.5426 - val_loss: 6.8554 - val_mean_absolute_error: 2.0641\n",
    "\n",
    "```"
   ]
  },
  {
   "cell_type": "markdown",
   "metadata": {
    "colab_type": "text",
    "id": "lZLQzIrY7qa7"
   },
   "source": [
    "### Question 1:  \n",
    "\n",
    "Based on the output above, do you think the model is over or under-fitting?\n",
    "\n",
    "Give an example of a \"base-line model\" that you could compare against. The model would use the same input as your sequential model.\n",
    "\n",
    "Write your anser in the cell below:"
   ]
  },
  {
   "cell_type": "markdown",
   "metadata": {
    "colab_type": "text",
    "id": "nT0XJ_jj9k_z"
   },
   "source": [
    "Answer:The model seems to be over fitting as vaidation error seems not be reducing only after 5 epochs.\n",
    "\n",
    "\n"
   ]
  },
  {
   "cell_type": "code",
   "execution_count": null,
   "metadata": {
    "colab": {
     "base_uri": "https://localhost:8080/",
     "height": 277
    },
    "colab_type": "code",
    "id": "bqvRHgsG3JjX",
    "outputId": "e53d8086-18bb-4a5d-b035-879aee5412d8"
   },
   "outputs": [],
   "source": [
    "# we plot the predicted vs actual ratings on the validation set:\n",
    "from matplotlib import pylab\n",
    "\n",
    "x, y = test_ratings, preds[:,0]\n",
    "pylab.plot(test_ratings,preds,'o')\n",
    "\n",
    "# calc the trendline\n",
    "z = np.polyfit(x, y, 1)\n",
    "p = np.poly1d(z)\n",
    "\n",
    "_ = pylab.plot(x,p(x),\"r--\")"
   ]
  },
  {
   "cell_type": "markdown",
   "metadata": {
    "colab_type": "text",
    "id": "MgVJHfwf-LrV"
   },
   "source": [
    "As mentioned in the introduction, the DrugReviews dataset contains another variable 'effectiveness', in which patients rated the effectiveness of the drug they were given.\n",
    "\n",
    "They had to rate the effectiveness on a scale from \"ineffective\" to \"highly effective\":"
   ]
  },
  {
   "cell_type": "code",
   "execution_count": null,
   "metadata": {
    "colab": {
     "base_uri": "https://localhost:8080/",
     "height": 72
    },
    "colab_type": "code",
    "id": "MO-pffYN-vRe",
    "outputId": "b80ba882-5784-4e4b-ee37-fe694d4a6578"
   },
   "outputs": [],
   "source": [
    "drugreviews['effectiveness'].unique()"
   ]
  },
  {
   "cell_type": "markdown",
   "metadata": {
    "colab_type": "text",
    "id": "etoRZzEk_Ak8"
   },
   "source": [
    "### Question 2:  \n",
    "\n",
    "Name two ways in which you could encode the variable \"effectiveness\". Write them in the cell below."
   ]
  },
  {
   "cell_type": "markdown",
   "metadata": {
    "colab_type": "text",
    "id": "qHqHNFHT_K0i"
   },
   "source": [
    "\n",
    "Answer ;Basically we can  embed the effectiness text to vectors.We can replace drugreviews['benefitsreview'] to drugreviews['effectiveness'] while setting review_split set so that embedding happends on the text of efficitiveness.Also since we only have one sentenence and two words in effectiveness the dimension could be [1,512] or lesser .\n"
   ]
  },
  {
   "cell_type": "markdown",
   "metadata": {
    "colab_type": "text",
    "id": "3evbknEz_T_h"
   },
   "source": [
    "## Task 3:\n",
    "\n",
    "Now that you have gathered experience with Keras over the last tutorials, you will be given a Task to perform more freely than usual.\n",
    "\n",
    "Train a model of your choice that predicts the effectiveness of a drug based on the review. This will require you to perform the following tasks:\n",
    "\n",
    "\n",
    "1.   Numerically encode the variable \"effectiveness\" in a way that it can be used in a machine-learning setting\n",
    "2.   Define a model architecture that takes the sequences of sentence embeddings computed above, and calculates the effectiveness. This may or may not be a sequential model. Try playing around!\n",
    "3.   Define the appropriate loss function and train a model using the first 3500 observations in the dataset as the training set, and the remaining as the validation set (as we did above).\n",
    "\n",
    "You can leave feedback and a small conclusion of this task in the Feedback field below. Was it easy or difficult? Where did you have problems?\n",
    "\n",
    "In the collab notebook, it might be necessary to run your code as we did above:\n",
    "\n",
    "\n",
    "```\n",
    "with tf.Session() as session:\n",
    "      K.set_session(session)\n",
    "      # define the model\n",
    "      # fit the model\n",
    "      # evaluate the model\n",
    "```\n",
    "\n"
   ]
  },
  {
   "cell_type": "code",
   "execution_count": null,
   "metadata": {
    "colab": {
     "base_uri": "https://localhost:8080/",
     "height": 201
    },
    "colab_type": "code",
    "id": "hPBhGAKFg7Px",
    "outputId": "b403a485-5693-425e-fdd6-d7f4b32d9d84"
   },
   "outputs": [],
   "source": [
    "eff_sentences=drugreviews['effectiveness']\n",
    "\n",
    "\n",
    "# we perform some additional pre-processing\n",
    "\n",
    "eff_sentences = [review.replace('...','.').split('.') for review in drugreviews['effectiveness']]\n",
    "#reviews_split = [ [sentence for sentence in review if len(sentence) > 8 ] for review in reviews_split ]\n",
    "print(\"review:\\n {}\".format(eff_sentences[3000]))\n",
    "print('# length: {}'.format(len(eff_sentences[3000])))\n",
    "\n",
    "all_sent2 = np.concatenate(eff_sentences)\n",
    "\n",
    "with tf.Session() as session:\n",
    "\n",
    "  K.set_session(session)\n",
    "  session.run(tf.global_variables_initializer())\n",
    "  session.run(tf.tables_initializer())\n",
    "  \n",
    "  embeddings2 = sequence_embedder.predict(all_sent2, verbose=1)\n"
   ]
  },
  {
   "cell_type": "code",
   "execution_count": null,
   "metadata": {
    "colab": {},
    "colab_type": "code",
    "id": "h0Hp6X4RRdw5"
   },
   "outputs": [],
   "source": [
    "# reshaping back...\n",
    "embedded_reviews2 = []\n",
    "i = 0\n",
    "for review in eff_sentences:\n",
    "  embedded_reviews2.append(embeddings2[i:(i+len(review))])\n",
    "  i+=len(review)\n",
    "embedded_reviews2 = np.array(embedded_reviews2)"
   ]
  },
  {
   "cell_type": "code",
   "execution_count": null,
   "metadata": {
    "colab": {
     "base_uri": "https://localhost:8080/",
     "height": 401
    },
    "colab_type": "code",
    "id": "CtQs6kJ6R43v",
    "outputId": "32954c8c-c7b9-4dcd-a5ad-9e6f404cfb29"
   },
   "outputs": [],
   "source": [
    "for i in [0, 10, 1500, 3000]:\n",
    "  print('\\ndrug review example:')\n",
    "  print(\"{}\".format(drugreviews['benefitsreview'][i]))\n",
    "  print('# rating: {}, effectiveness: {}'.format(drugreviews['rating'][i], drugreviews['effectiveness'][i]))\n",
    "  print('# embedding shape: {}'.format(embedded_reviews2[i].shape))"
   ]
  },
  {
   "cell_type": "code",
   "execution_count": null,
   "metadata": {
    "colab": {
     "base_uri": "https://localhost:8080/",
     "height": 441
    },
    "colab_type": "code",
    "id": "QgUUWkJtV0kI",
    "outputId": "a26e8529-47ce-43b6-e3e8-88d3782b7521"
   },
   "outputs": [],
   "source": [
    "embedded_reviews_pad2 = np.array([np.pad(embedded_review2, ((5-embedded_review2.shape[0], 0), (0,0)), mode='constant', constant_values=0.) for embedded_review2 in embedded_reviews2 ])\n",
    "print('shape after embedding and padding: {}'.format(embedded_reviews_pad2.shape))\n",
    "\n",
    "\n",
    "plot_similarity(all_sent2[[80,20,200,40,100]], embeddings2[[80,20,200,40,100]], 90)"
   ]
  },
  {
   "cell_type": "code",
   "execution_count": null,
   "metadata": {
    "colab": {
     "base_uri": "https://localhost:8080/",
     "height": 53
    },
    "colab_type": "code",
    "id": "X9aeiXifWtgy",
    "outputId": "a7014c4a-0aa4-4364-a41b-4202ea4bd311"
   },
   "outputs": [],
   "source": [
    "#ratings = np.array(drugreviews['rating'])\n",
    "eff = np.array(drugreviews['effectiveness'])\n",
    "train_reviews2 = embedded_reviews_pad[0:3500]\n",
    "train_ratings2= embedded_reviews_pad2[0:3500]\n",
    "\n",
    "test_reviews2 = embedded_reviews_pad[3500:]\n",
    "test_ratings2 = embedded_reviews_pad2[0:3500]\n",
    "\n",
    "print(embedded_reviews_pad2.shape)\n",
    "print(embedded_reviews_pad.shape)"
   ]
  },
  {
   "cell_type": "code",
   "execution_count": null,
   "metadata": {
    "colab": {
     "base_uri": "https://localhost:8080/",
     "height": 272
    },
    "colab_type": "code",
    "id": "V55R8cOXXtB0",
    "outputId": "0ae21308-3893-443e-8f0b-19ef7497ff56"
   },
   "outputs": [],
   "source": [
    "def get_LSTM_Eff():\n",
    "    \n",
    "    \n",
    "    # your code\n",
    "    in_layer = Input(shape=(10,512))\n",
    "    #lstm =LSTM(4)(in_layer)\n",
    "    lstm =Dense(10, activation='relu')(in_layer)\n",
    "    #lstm =Dense(1, activation='relu')(lstm) \n",
    "    lstm =Dense(5, activation='relu')(lstm)\n",
    "          \n",
    "    \n",
    "    model = Model(in_layer, lstm )# your code\n",
    "    model.summary()\n",
    "    \n",
    "    return model\n",
    "  \n",
    "#get_LSTM_Eff()"
   ]
  },
  {
   "cell_type": "code",
   "execution_count": null,
   "metadata": {
    "colab": {
     "base_uri": "https://localhost:8080/",
     "height": 652
    },
    "colab_type": "code",
    "id": "YQoVmwzlXEPl",
    "outputId": "55be1de0-f4bb-4c9a-cc00-bbc60c9266ba"
   },
   "outputs": [],
   "source": [
    "with tf.Session() as session:\n",
    "  \n",
    "  K.set_session(session) \n",
    "  lstm_model = get_LSTM_Eff() # your code (load the model)\n",
    "  \n",
    "  # your code (compile and fit)\n",
    "  lstm_model.compile(optimizer=Adam(lr=0.01),\n",
    "              loss='mean_squared_error',\n",
    "              metrics=['mean_absolute_error']) #mean_absolute_error\n",
    "  history2=lstm_model.fit(train_reviews2,train_ratings2,epochs=30,validation_data=(test_reviews2,test_ratings2))\n",
    "   \n",
    "  preds = lstm_model.predict(test_reviews2)\n",
    "    \n",
    "  \n",
    "   \n",
    "    \n",
    "plothistory(history2)"
   ]
  },
  {
   "cell_type": "markdown",
   "metadata": {
    "colab_type": "text",
    "id": "c8LmObsThRb1"
   },
   "source": [
    "## Feedback:\n",
    "\n",
    "For **Task 3** write your conclusions and feedback in the cell below"
   ]
  },
  {
   "cell_type": "markdown",
   "metadata": {
    "colab_type": "text",
    "id": "mSd7Vv_9iBrQ"
   },
   "source": []
  },
  {
   "cell_type": "code",
   "execution_count": null,
   "metadata": {
    "colab": {
     "base_uri": "https://localhost:8080/",
     "height": 155
    },
    "colab_type": "code",
    "id": "mup-8wpziA7K",
    "outputId": "54caf438-30fe-472c-ad11-3e9d7f166a51"
   },
   "outputs": [],
   "source": [
    "Answer : Embeddings and Task 3 were hard for me .I could not figure out what shape the output should have after embedding effectiveness"
   ]
  },
  {
   "cell_type": "markdown",
   "metadata": {
    "colab_type": "text",
    "id": "eNI0Vd4Wii97"
   },
   "source": [
    "# Submitting your assignment\n",
    "\n",
    "Please save your notebook under your full name and **submit it on the moodle platform**.\n",
    "\n",
    "Please rename the file to 9_transfer_learning_lstm_<GROUP\\>.ipynb and replace <GROUP\\> with your group-name. (File -> Download .ipynb)\n",
    "\n",
    "As this is also the first time for us preparing this tutorial, you are welcome to give us feedback to help us improve this tutorial.  \n",
    "\n",
    "Thank you!  \n",
    "\n",
    "Jana & Remo"
   ]
  }
 ],
 "metadata": {
  "colab": {
   "collapsed_sections": [],
   "name": "9_STUDENT_transfer_learning_lstm.ipynb",
   "provenance": [],
   "version": "0.3.2"
  },
  "kernelspec": {
   "display_name": "Python 3",
   "language": "python",
   "name": "python3"
  },
  "language_info": {
   "codemirror_mode": {
    "name": "ipython",
    "version": 3
   },
   "file_extension": ".py",
   "mimetype": "text/x-python",
   "name": "python",
   "nbconvert_exporter": "python",
   "pygments_lexer": "ipython3",
   "version": "3.7.1"
  }
 },
 "nbformat": 4,
 "nbformat_minor": 1
}
